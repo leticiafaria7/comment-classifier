{
 "cells": [
  {
   "cell_type": "markdown",
   "metadata": {},
   "source": [
    "## Imports"
   ]
  },
  {
   "cell_type": "code",
   "execution_count": 3,
   "metadata": {},
   "outputs": [],
   "source": [
    "import pandas as pd\n",
    "import numpy as np\n",
    "\n",
    "pd.set_option('display.max_columns', None)"
   ]
  },
  {
   "cell_type": "markdown",
   "metadata": {},
   "source": [
    "## Ler e tratar base de dados"
   ]
  },
  {
   "cell_type": "code",
   "execution_count": 49,
   "metadata": {},
   "outputs": [
    {
     "name": "stdout",
     "output_type": "stream",
     "text": [
      "(8452, 29)\n",
      "(8344, 29)\n",
      "(8344, 11)\n",
      "(6865, 11)\n"
     ]
    }
   ],
   "source": [
    "df = pd.read_csv('dados/bares_maps/bd-reviews_Reworked.csv')\n",
    "\n",
    "print(df.shape)\n",
    "df = df[df['reviews'].notna()]\n",
    "print(df.shape)\n",
    "\n",
    "df['name'] = df['reviews'].apply(lambda x: eval(x)['name'])\n",
    "df['comentario'] = df['reviews'].apply(lambda x: eval(x)['text'])\n",
    "\n",
    "df = df[['searchString', 'title', 'price', 'categoryName', 'city', 'totalScore', 'categories', 'reviewsCount', 'scrapedAt', 'name', 'comentario']]\n",
    "print(df.shape)\n",
    "\n",
    "df = df[df['comentario'].notna()]\n",
    "print(df.shape)\n",
    "\n",
    "df['tamanho_comentario'] = df['comentario'].apply(lambda x: len(x))"
   ]
  },
  {
   "cell_type": "code",
   "execution_count": 50,
   "metadata": {},
   "outputs": [
    {
     "data": {
      "text/html": [
       "<div>\n",
       "<style scoped>\n",
       "    .dataframe tbody tr th:only-of-type {\n",
       "        vertical-align: middle;\n",
       "    }\n",
       "\n",
       "    .dataframe tbody tr th {\n",
       "        vertical-align: top;\n",
       "    }\n",
       "\n",
       "    .dataframe thead th {\n",
       "        text-align: right;\n",
       "    }\n",
       "</style>\n",
       "<table border=\"1\" class=\"dataframe\">\n",
       "  <thead>\n",
       "    <tr style=\"text-align: right;\">\n",
       "      <th></th>\n",
       "      <th>searchString</th>\n",
       "      <th>title</th>\n",
       "      <th>price</th>\n",
       "      <th>categoryName</th>\n",
       "      <th>city</th>\n",
       "      <th>totalScore</th>\n",
       "      <th>categories</th>\n",
       "      <th>reviewsCount</th>\n",
       "      <th>scrapedAt</th>\n",
       "      <th>name</th>\n",
       "      <th>comentario</th>\n",
       "      <th>tamanho_comentario</th>\n",
       "    </tr>\n",
       "  </thead>\n",
       "  <tbody>\n",
       "    <tr>\n",
       "      <th>0</th>\n",
       "      <td>bares</td>\n",
       "      <td>Cajueiro Bar &amp; Restaurante</td>\n",
       "      <td>$$</td>\n",
       "      <td>Self service restaurant</td>\n",
       "      <td>Goiânia</td>\n",
       "      <td>4.7</td>\n",
       "      <td>['Self service restaurant', 'Bar', 'Restaurant...</td>\n",
       "      <td>727</td>\n",
       "      <td>2023-07-28T22:48:16.035Z</td>\n",
       "      <td>Flavia Bruno</td>\n",
       "      <td>Comida boa, apesar de ser a peso. A mesa de sa...</td>\n",
       "      <td>265</td>\n",
       "    </tr>\n",
       "    <tr>\n",
       "      <th>1</th>\n",
       "      <td>bares</td>\n",
       "      <td>Cajueiro Bar &amp; Restaurante</td>\n",
       "      <td>$$</td>\n",
       "      <td>Self service restaurant</td>\n",
       "      <td>Goiânia</td>\n",
       "      <td>4.7</td>\n",
       "      <td>['Self service restaurant', 'Bar', 'Restaurant...</td>\n",
       "      <td>727</td>\n",
       "      <td>2023-07-28T22:48:16.035Z</td>\n",
       "      <td>Cristiane B Monteiro</td>\n",
       "      <td>Gosto demais da variedade da comida. Não tem c...</td>\n",
       "      <td>170</td>\n",
       "    </tr>\n",
       "    <tr>\n",
       "      <th>2</th>\n",
       "      <td>bares</td>\n",
       "      <td>Cajueiro Bar &amp; Restaurante</td>\n",
       "      <td>$$</td>\n",
       "      <td>Self service restaurant</td>\n",
       "      <td>Goiânia</td>\n",
       "      <td>4.7</td>\n",
       "      <td>['Self service restaurant', 'Bar', 'Restaurant...</td>\n",
       "      <td>727</td>\n",
       "      <td>2023-07-28T22:48:16.035Z</td>\n",
       "      <td>Joao Laurindo Duarte</td>\n",
       "      <td>O restaurante vende refeição por quilo, cheque...</td>\n",
       "      <td>180</td>\n",
       "    </tr>\n",
       "  </tbody>\n",
       "</table>\n",
       "</div>"
      ],
      "text/plain": [
       "  searchString                       title price             categoryName  \\\n",
       "0        bares  Cajueiro Bar & Restaurante    $$  Self service restaurant   \n",
       "1        bares  Cajueiro Bar & Restaurante    $$  Self service restaurant   \n",
       "2        bares  Cajueiro Bar & Restaurante    $$  Self service restaurant   \n",
       "\n",
       "      city  totalScore                                         categories  \\\n",
       "0  Goiânia         4.7  ['Self service restaurant', 'Bar', 'Restaurant...   \n",
       "1  Goiânia         4.7  ['Self service restaurant', 'Bar', 'Restaurant...   \n",
       "2  Goiânia         4.7  ['Self service restaurant', 'Bar', 'Restaurant...   \n",
       "\n",
       "   reviewsCount                 scrapedAt                  name  \\\n",
       "0           727  2023-07-28T22:48:16.035Z          Flavia Bruno   \n",
       "1           727  2023-07-28T22:48:16.035Z  Cristiane B Monteiro   \n",
       "2           727  2023-07-28T22:48:16.035Z  Joao Laurindo Duarte   \n",
       "\n",
       "                                          comentario  tamanho_comentario  \n",
       "0  Comida boa, apesar de ser a peso. A mesa de sa...                 265  \n",
       "1  Gosto demais da variedade da comida. Não tem c...                 170  \n",
       "2  O restaurante vende refeição por quilo, cheque...                 180  "
      ]
     },
     "execution_count": 50,
     "metadata": {},
     "output_type": "execute_result"
    }
   ],
   "source": [
    "df.head(3)"
   ]
  },
  {
   "cell_type": "markdown",
   "metadata": {},
   "source": [
    "## Distribuições"
   ]
  },
  {
   "cell_type": "code",
   "execution_count": 42,
   "metadata": {},
   "outputs": [
    {
     "data": {
      "text/plain": [
       "Goiânia                 8296\n",
       "Marista                   39\n",
       "Aparecida de Goiânia       9\n",
       "Name: city, dtype: int64"
      ]
     },
     "execution_count": 42,
     "metadata": {},
     "output_type": "execute_result"
    }
   ],
   "source": [
    "df.city.value_counts()"
   ]
  },
  {
   "cell_type": "code",
   "execution_count": 44,
   "metadata": {},
   "outputs": [
    {
     "data": {
      "text/plain": [
       "367"
      ]
     },
     "execution_count": 44,
     "metadata": {},
     "output_type": "execute_result"
    }
   ],
   "source": [
    "df.title.nunique()"
   ]
  },
  {
   "cell_type": "code",
   "execution_count": 45,
   "metadata": {},
   "outputs": [
    {
     "data": {
      "text/plain": [
       "28"
      ]
     },
     "execution_count": 45,
     "metadata": {},
     "output_type": "execute_result"
    }
   ],
   "source": [
    "df.categoryName.nunique()"
   ]
  },
  {
   "cell_type": "code",
   "execution_count": 51,
   "metadata": {},
   "outputs": [
    {
     "data": {
      "text/plain": [
       "count    6865.000000\n",
       "mean      120.992862\n",
       "std       150.943236\n",
       "min         1.000000\n",
       "25%        43.000000\n",
       "50%        78.000000\n",
       "75%       140.000000\n",
       "max      2510.000000\n",
       "Name: tamanho_comentario, dtype: float64"
      ]
     },
     "execution_count": 51,
     "metadata": {},
     "output_type": "execute_result"
    }
   ],
   "source": [
    "df.tamanho_comentario.describe()"
   ]
  },
  {
   "cell_type": "code",
   "execution_count": null,
   "metadata": {},
   "outputs": [],
   "source": []
  }
 ],
 "metadata": {
  "kernelspec": {
   "display_name": "Python 3",
   "language": "python",
   "name": "python3"
  },
  "language_info": {
   "codemirror_mode": {
    "name": "ipython",
    "version": 3
   },
   "file_extension": ".py",
   "mimetype": "text/x-python",
   "name": "python",
   "nbconvert_exporter": "python",
   "pygments_lexer": "ipython3",
   "version": "3.10.10"
  }
 },
 "nbformat": 4,
 "nbformat_minor": 2
}
