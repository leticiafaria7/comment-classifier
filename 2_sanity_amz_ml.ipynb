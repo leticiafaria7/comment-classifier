{
 "cells": [
  {
   "cell_type": "markdown",
   "metadata": {},
   "source": [
    "## Imports"
   ]
  },
  {
   "cell_type": "code",
   "execution_count": 1,
   "metadata": {},
   "outputs": [],
   "source": [
    "import pandas as pd\n",
    "import numpy as np\n",
    "\n",
    "pd.set_option('display.max_columns', None)"
   ]
  },
  {
   "cell_type": "markdown",
   "metadata": {},
   "source": [
    "## Ler e tratar base de dados"
   ]
  },
  {
   "cell_type": "code",
   "execution_count": 34,
   "metadata": {},
   "outputs": [
    {
     "name": "stdout",
     "output_type": "stream",
     "text": [
      "Tamanho da base da Amazon: 9815\n",
      "Tamanho da base do Mercado Livre: 59934\n",
      "Tamanho da base final: 69749\n",
      "Tamanho da base final (sem duplicatas): 68092\n"
     ]
    }
   ],
   "source": [
    "df_amz = pd.read_csv('dados/amazon_ml/am_scrape_final.csv')#.drop('Link', axis = 1)\n",
    "df_amz.columns = ['chave_pesquisa', 'produto', 'link', 'avaliacao']\n",
    "df_amz['site'] = 'amazon'\n",
    "print(f\"Tamanho da base da Amazon: {df_amz.shape[0]}\")\n",
    "\n",
    "df_ml = pd.read_csv('dados/amazon_ml/ml_scrape_final.csv')#.drop('Link', axis = 1)\n",
    "df_ml.columns = ['chave_pesquisa', 'produto', 'link', 'avaliacao']\n",
    "df_ml['site'] = 'mercado_livre'\n",
    "print(f\"Tamanho da base do Mercado Livre: {df_ml.shape[0]}\")\n",
    "\n",
    "df = pd.concat([df_amz, df_ml])\n",
    "df = df[['site', 'chave_pesquisa', 'produto', 'link', 'avaliacao']]\n",
    "df['tamanho_comentario'] = df['avaliacao'].apply(len)\n",
    "print(f\"Tamanho da base final: {df.shape[0]}\")\n",
    "\n",
    "df = df.drop_duplicates()\n",
    "print(f\"Tamanho da base final (sem duplicatas): {df.shape[0]}\")"
   ]
  },
  {
   "cell_type": "code",
   "execution_count": 35,
   "metadata": {},
   "outputs": [
    {
     "data": {
      "text/html": [
       "<div>\n",
       "<style scoped>\n",
       "    .dataframe tbody tr th:only-of-type {\n",
       "        vertical-align: middle;\n",
       "    }\n",
       "\n",
       "    .dataframe tbody tr th {\n",
       "        vertical-align: top;\n",
       "    }\n",
       "\n",
       "    .dataframe thead th {\n",
       "        text-align: right;\n",
       "    }\n",
       "</style>\n",
       "<table border=\"1\" class=\"dataframe\">\n",
       "  <thead>\n",
       "    <tr style=\"text-align: right;\">\n",
       "      <th></th>\n",
       "      <th>site</th>\n",
       "      <th>chave_pesquisa</th>\n",
       "      <th>produto</th>\n",
       "      <th>link</th>\n",
       "      <th>avaliacao</th>\n",
       "      <th>tamanho_comentario</th>\n",
       "    </tr>\n",
       "  </thead>\n",
       "  <tbody>\n",
       "    <tr>\n",
       "      <th>0</th>\n",
       "      <td>amazon</td>\n",
       "      <td>smartphone</td>\n",
       "      <td>Smartphone Xiaomi Note 12 4G 128GB 6GB Ram (VE...</td>\n",
       "      <td>https://www.amazon.com.br/dp/B0BZ7RJDHD</td>\n",
       "      <td>Com a necessidade de comprar um celular custo ...</td>\n",
       "      <td>1769</td>\n",
       "    </tr>\n",
       "    <tr>\n",
       "      <th>1</th>\n",
       "      <td>amazon</td>\n",
       "      <td>smartphone</td>\n",
       "      <td>Smartphone Xiaomi Note 12 4G 128GB 6GB Ram (VE...</td>\n",
       "      <td>https://www.amazon.com.br/dp/B0BZ7RJDHD</td>\n",
       "      <td>Minha experiência de 10 dias de uso com o Xiao...</td>\n",
       "      <td>2382</td>\n",
       "    </tr>\n",
       "    <tr>\n",
       "      <th>2</th>\n",
       "      <td>amazon</td>\n",
       "      <td>smartphone</td>\n",
       "      <td>Smartphone Xiaomi Note 12 4G 128GB 6GB Ram (VE...</td>\n",
       "      <td>https://www.amazon.com.br/dp/B0BZ7RJDHD</td>\n",
       "      <td>Smartphone de qualidade como já esperava, boas...</td>\n",
       "      <td>652</td>\n",
       "    </tr>\n",
       "  </tbody>\n",
       "</table>\n",
       "</div>"
      ],
      "text/plain": [
       "     site chave_pesquisa                                            produto  \\\n",
       "0  amazon     smartphone  Smartphone Xiaomi Note 12 4G 128GB 6GB Ram (VE...   \n",
       "1  amazon     smartphone  Smartphone Xiaomi Note 12 4G 128GB 6GB Ram (VE...   \n",
       "2  amazon     smartphone  Smartphone Xiaomi Note 12 4G 128GB 6GB Ram (VE...   \n",
       "\n",
       "                                      link  \\\n",
       "0  https://www.amazon.com.br/dp/B0BZ7RJDHD   \n",
       "1  https://www.amazon.com.br/dp/B0BZ7RJDHD   \n",
       "2  https://www.amazon.com.br/dp/B0BZ7RJDHD   \n",
       "\n",
       "                                           avaliacao  tamanho_comentario  \n",
       "0  Com a necessidade de comprar um celular custo ...                1769  \n",
       "1  Minha experiência de 10 dias de uso com o Xiao...                2382  \n",
       "2  Smartphone de qualidade como já esperava, boas...                 652  "
      ]
     },
     "execution_count": 35,
     "metadata": {},
     "output_type": "execute_result"
    }
   ],
   "source": [
    "df.head(3)"
   ]
  },
  {
   "cell_type": "markdown",
   "metadata": {},
   "source": [
    "## Distribuições"
   ]
  },
  {
   "cell_type": "code",
   "execution_count": 27,
   "metadata": {},
   "outputs": [
    {
     "data": {
      "text/plain": [
       "site\n",
       "amazon           41\n",
       "mercado_livre    43\n",
       "Name: chave_pesquisa, dtype: int64"
      ]
     },
     "execution_count": 27,
     "metadata": {},
     "output_type": "execute_result"
    }
   ],
   "source": [
    "# chaves de pesquisas únicas por site\n",
    "df.groupby('site')['chave_pesquisa'].apply(lambda x: x.nunique())"
   ]
  },
  {
   "cell_type": "code",
   "execution_count": 28,
   "metadata": {},
   "outputs": [
    {
     "data": {
      "text/plain": [
       "site\n",
       "amazon           908\n",
       "mercado_livre    896\n",
       "Name: produto, dtype: int64"
      ]
     },
     "execution_count": 28,
     "metadata": {},
     "output_type": "execute_result"
    }
   ],
   "source": [
    "# produtos únicos por site\n",
    "df.groupby('site')['produto'].apply(lambda x: x.nunique())"
   ]
  },
  {
   "cell_type": "code",
   "execution_count": 38,
   "metadata": {},
   "outputs": [
    {
     "data": {
      "text/html": [
       "<div>\n",
       "<style scoped>\n",
       "    .dataframe tbody tr th:only-of-type {\n",
       "        vertical-align: middle;\n",
       "    }\n",
       "\n",
       "    .dataframe tbody tr th {\n",
       "        vertical-align: top;\n",
       "    }\n",
       "\n",
       "    .dataframe thead th {\n",
       "        text-align: right;\n",
       "    }\n",
       "</style>\n",
       "<table border=\"1\" class=\"dataframe\">\n",
       "  <thead>\n",
       "    <tr style=\"text-align: right;\">\n",
       "      <th></th>\n",
       "      <th>count</th>\n",
       "      <th>mean</th>\n",
       "      <th>std</th>\n",
       "      <th>min</th>\n",
       "      <th>25%</th>\n",
       "      <th>33%</th>\n",
       "      <th>50%</th>\n",
       "      <th>66%</th>\n",
       "      <th>75%</th>\n",
       "      <th>90%</th>\n",
       "      <th>max</th>\n",
       "    </tr>\n",
       "    <tr>\n",
       "      <th>site</th>\n",
       "      <th></th>\n",
       "      <th></th>\n",
       "      <th></th>\n",
       "      <th></th>\n",
       "      <th></th>\n",
       "      <th></th>\n",
       "      <th></th>\n",
       "      <th></th>\n",
       "      <th></th>\n",
       "      <th></th>\n",
       "      <th></th>\n",
       "    </tr>\n",
       "  </thead>\n",
       "  <tbody>\n",
       "    <tr>\n",
       "      <th>amazon</th>\n",
       "      <td>8158.0</td>\n",
       "      <td>183.768571</td>\n",
       "      <td>394.338096</td>\n",
       "      <td>1.0</td>\n",
       "      <td>41.0</td>\n",
       "      <td>53.0</td>\n",
       "      <td>84.0</td>\n",
       "      <td>131.0</td>\n",
       "      <td>177.0</td>\n",
       "      <td>367.0</td>\n",
       "      <td>9130.0</td>\n",
       "    </tr>\n",
       "    <tr>\n",
       "      <th>mercado_livre</th>\n",
       "      <td>59934.0</td>\n",
       "      <td>71.317800</td>\n",
       "      <td>75.144259</td>\n",
       "      <td>1.0</td>\n",
       "      <td>29.0</td>\n",
       "      <td>35.0</td>\n",
       "      <td>48.0</td>\n",
       "      <td>68.0</td>\n",
       "      <td>86.0</td>\n",
       "      <td>151.0</td>\n",
       "      <td>1504.0</td>\n",
       "    </tr>\n",
       "  </tbody>\n",
       "</table>\n",
       "</div>"
      ],
      "text/plain": [
       "                 count        mean         std  min   25%   33%   50%    66%  \\\n",
       "site                                                                           \n",
       "amazon          8158.0  183.768571  394.338096  1.0  41.0  53.0  84.0  131.0   \n",
       "mercado_livre  59934.0   71.317800   75.144259  1.0  29.0  35.0  48.0   68.0   \n",
       "\n",
       "                 75%    90%     max  \n",
       "site                                 \n",
       "amazon         177.0  367.0  9130.0  \n",
       "mercado_livre   86.0  151.0  1504.0  "
      ]
     },
     "execution_count": 38,
     "metadata": {},
     "output_type": "execute_result"
    }
   ],
   "source": [
    "df.groupby('site').tamanho_comentario.describe(percentiles = [0.25, 0.33, 0.50, 0.66, 0.75, 0.90])"
   ]
  },
  {
   "cell_type": "code",
   "execution_count": 37,
   "metadata": {},
   "outputs": [
    {
     "data": {
      "text/plain": [
       "'Impressions after 1 week. May update if something goes wrong later, otherwise see you in a few years.----------------------------------------------------------------------My hands measure 18 x 10 cm and I use a palm grip. Length is measured from tip of middle finger to base of palm, and width is measured from edge of pinky to edge of thumb when all fingers are placed together.I\\'ve mained 4 mice over the years, including this one. M65 RGB, M65 RGB Elite, Razer Basilisk x Hyperspeed, and this Corsair Nightsword. The original M65 RGB was a real tank that lasted me 5+ years of hard usage. The switches are still 100% responsive, but I ruined the surface coat with acetone so I upgraded to the Elite. The M65 Elite started losing responsiveness in the left click after 4 months. The Basilisk x Hyperspeed was meant to be my wireless mouse while commuting. It felt decently comfortable in store and the shape was very well done except for a slightly-off hump placement, but after a while of using it, I realized the mouse was not wide enough for my hands, which would cause some discomfort after continuous use. But for my typical not-so-heavy usage while on the go, it is acceptable. The M65/Elite (both have nearly the same form factor) has been my daily driver for nearly 6 years so I will be doing a lot of comparison with it.Now the reason I\\'m talking about all these other mice is so you can get other comparisons of what mice I find comfortable. Mouse shape is the most subjective and also important factor when choosing a mouse. In particular grip width matters the most. I didn\\'t think I had massive hands but apparently I do. To this date the only other mouse that has felt comfortable to me is the Corsair M65. I\\'ve tried all sorts of mice from Logitech and Razer, that all had raving reviews, including the G502 which the Nightsword was modeled after. All of them felt extremely uncomfortable to me with poor hump placement, small grip width, uncomfortable side button positioning, etc. The Roccat Kone Aimo supposedly also has a good size for my hands, but I have yet to try it out as stores will rarely put Roccats on display.----------------------------------------------------------------------Anyways, about the actual Nightsword.Feel/Comfort:This mouse feels like it was literally made for my hands. My hand dimensions are a little unusual, even compared to other 18 x 10 cm hands, as I have very long fingers relative to my palm size. This makes it even more difficult to find a good mouse. I can\\'t really describe the feeling when I first tried it out in store before. I have never felt this level of comfort on any mouse, not even the M65, which is pretty comfortable, but not on this level. The Nightsword has curves in all the right places, buttons at the right positions, and my hand can rest on it effortlessly without having to cramp up my palm at all. The thumb wing is extremely nice as well. The sniper button is placed right near the tip of my thumb, which is the ideal position to hit it without having to bend or stretch at all. I can easily swing my thumb up to hit the forward and back buttons above it. The DPI switches which are cut out of the left click take some more effort to hit, but I don\\'t really use them much for now. Still figuring out the optimal way to hit them. I can actually reach one comfortably with my thumb, and the other with my index finger.Weight:This mouse is way too heavy, even with all weights removed. I have to actually consciously grip the mouse a bit harder than usual when trying to lift the mouse up, otherwise it feels like it would slip out of my hand. Combined with the high LOD on this thing, it kind of feels like Corsair doesn\\'t intend for you to ever lift the mouse. Center of gravity adjustment is a cool idea, but it feels like a gimmick right now.Sensor:The Nightsword uses the same PMW3391 optical sensor as the M65 Elite. Now here\\'s the thing...for some unknown reason the Nightsword falls short of the M65 Elite\\'s performance, despite having the same sensor. People say with high end mice, the sensor isn\\'t a spec to look at because they are all practically the same, but I disagree. I have tried many different sensors that are all in this DPI range and 1000 Hz polling rate, but nothing else has felt as as silky smooth as the M65 Elite. In fact, not even the Nightsword with the same sensor feels as smooth. It\\'s still great performance, but after experiencing the M65 elite, something is just lacking in the smoothness.The Lift-Off Distance (LOD) is also different from the M65 Elite. It feels ridiculously high, which is bad. The M65 Elite with the exact same sensor has one of the lowest LOD\\'s on the market, at a height of 1 DVD thickness. The Nightsword is nearly 3 DVD\\'s in LOD, while 2 is the current industry standard. This seems to be a common issue in other reviews, so it is definitely not a one-off.----------------------------------------------------------------------Buttons:This is really one of the huge flawed areas of this mouse. It seems like corsair got all the button actuation forces backwards.* L/R click:Split trigger buttons (buttons are completely separate cutouts from the main body of the mouse) and highly sensitive. I personally dislike split trigger but some people may disagree on this. When you have split trigger buttons there is less \"springiness\" and long term feedback to the button. If you need to hold down left or right click a lot for extended periods of time, this becomes a problem. It is very easy to accidentally let go of the button when you don\\'t have that slight feedback of the button trying to spring back against your finger. Or, over time you start to press harder and harder which is also bad. The M65 Elite which was not split trigger had the perfect amount of feedback in my opinion. Split trigger can also sometimes jam the skin of your fingers in between the button, which was a problem on the Basilisk, but so far I haven\\'t had this issue with the Nightsword. I also find the Nightsword L/R click to be a bit too sensitive. The first few days of use, I was constantly triggering the buttons by accident just by resting my hand on it, but I\\'ve adjusted now and it no longer happens.* Scroll/Middle click:Scrolling feels pretty good. It could be a tad bit less mushy, but I can still easily scroll one tick at a time and it doesn\\'t ever move by accident. The middle click however, has some issues. It is not as firm as it should be. Applying a slight downward force without actuating it causes it to give way a bit and create a barely-audible creaking feedback as though the scroll wheel is loose.* Sniper Button:Interestingly enough this is actually the best button on this mouse. Perfect positioning, perfect actuation force. Well done.* Forward/Back:Takes WAY too much force to press. My thumb feels like it became 3x more buff after trying to hold down macros on these buttons (seriously). Additionally, the 2 buttons sometimes get stuck on each other. Press one, and it pushes on the other one, or sometimes even catches on the other when trying to release (you hear 2 \"clicks\" as the button tries to come back up). They are also slightly wobbly.* Profile Shift:Not too much to say about these except that they should be less sensitive. You\\'d think that they\\'re pretty out of the way, but I have actually swapped profiles by accident a couple of times already. When flipping the mouse over to try out the weight system, they would constantly keep triggering just from the weight of the mouse.* DPI Shift:These have the same sensitivity as the L/R click, so I have the same opinion on that. The main thing about these is the shape. I understand that the intention was to keep the contour of the left click intact, but I would have liked to see the DPI-down button raised slightly higher so that it can be hit by rolling the index finger, without hitting the other buttons around it by accident.----------------------------------------------------------------------Build/Materials:I really like the left and right click material a lot on this mouse. Feels like a really high quality matte plastic and repels dirt really well. The glossy plastic on the side buttons gunks up extremely quickly and I don\\'t even have sweaty or oily hands. The rubberized material on the rest of the mouse seems alright for now but it seems like it could deteriorate very quickly if you tried to scrub it for any cleaning. The textured surface seems to just be asking for gunk to get stuffed in the holes and be impossible to clean. We\\'ll see. Scroll wheel and Forward/Back buttons could be less wobbly as I described before but otherwise build quality is very good.----------------------------------------------------------------------Final comments for Corsair:I really want to see you guys combine all the best things into one mouse. The form factor of the Nightsword + the M65 Elite\\'s sensor, button build quality, material, and button actuation forces + optical switches (a lot of left/right click problems with many of your recent mice) + less weight, and maybe wireless. That would be my dream mouse.'"
      ]
     },
     "execution_count": 37,
     "metadata": {},
     "output_type": "execute_result"
    }
   ],
   "source": [
    "# maior comentário\n",
    "df[df['tamanho_comentario'] == 9130].reset_index()['avaliacao'][0]"
   ]
  },
  {
   "cell_type": "code",
   "execution_count": null,
   "metadata": {},
   "outputs": [],
   "source": []
  }
 ],
 "metadata": {
  "kernelspec": {
   "display_name": "Python 3",
   "language": "python",
   "name": "python3"
  },
  "language_info": {
   "codemirror_mode": {
    "name": "ipython",
    "version": 3
   },
   "file_extension": ".py",
   "mimetype": "text/x-python",
   "name": "python",
   "nbconvert_exporter": "python",
   "pygments_lexer": "ipython3",
   "version": "3.10.10"
  }
 },
 "nbformat": 4,
 "nbformat_minor": 2
}
